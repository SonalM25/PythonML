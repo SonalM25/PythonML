{
  "cells": [
    {
      "cell_type": "markdown",
      "metadata": {
        "id": "view-in-github",
        "colab_type": "text"
      },
      "source": [
        "<a href=\"https://colab.research.google.com/github/SonalM25/PythonML/blob/main/Assessment2B.ipynb\" target=\"_parent\"><img src=\"https://colab.research.google.com/assets/colab-badge.svg\" alt=\"Open In Colab\"/></a>"
      ]
    },
    {
      "cell_type": "markdown",
      "metadata": {
        "id": "7lfKfCMZoX_j"
      },
      "source": [
        "###### Assessment"
      ]
    },
    {
      "cell_type": "markdown",
      "metadata": {
        "id": "00ULxlE8oX_t"
      },
      "source": [
        "###### I am going to provide two .csv files , you are supposed to work on them and have to provide solutions to the following problems"
      ]
    },
    {
      "cell_type": "markdown",
      "metadata": {
        "id": "5J51ieEooX_v"
      },
      "source": [
        "###### import necessary libraries"
      ]
    },
    {
      "cell_type": "code",
      "execution_count": 43,
      "metadata": {
        "id": "WJbEnI3zoX_w",
        "outputId": "21b5d88e-3f0c-47c8-a096-25304b8ad9e3",
        "colab": {
          "base_uri": "https://localhost:8080/"
        }
      },
      "outputs": [
        {
          "output_type": "stream",
          "name": "stdout",
          "text": [
            "              Name  python  mysql  Previous Geekions  CodeKata Score  \\\n",
            "0        A.Dharani    82.0   20.0              24500           24500   \n",
            "1      V.JEEVITHA     82.0   20.0              21740           21740   \n",
            "2      HEMAVATHI.R   100.0  100.0              19680           19680   \n",
            "3      Mugunthan S   100.0   47.0              10610           10610   \n",
            "4      Sathammai.S   100.0    8.0               8980            8980   \n",
            "..             ...     ...    ...                ...             ...   \n",
            "79    KarthikeyanS    45.0    0.0                  0               0   \n",
            "80        BARATH.P    29.0    0.0                  0               0   \n",
            "81   N.Ajith kumar    82.0    0.0                  0               0   \n",
            "82    mohamed nabi     0.0    0.0                  0               0   \n",
            "83  yaser ahamed.A     0.0   27.0                  0               0   \n",
            "\n",
            "                                Department  Rising  \n",
            "0         Computer Science and Engineering       0  \n",
            "1         Computer Science and Engineering       0  \n",
            "2         Computer Science and Engineering       0  \n",
            "3         Computer Science and Engineering       0  \n",
            "4         Computer Science and Engineering       0  \n",
            "..                                     ...     ...  \n",
            "79  Electronics and Electrical Engineering       0  \n",
            "80  Electronics and Electrical Engineering       0  \n",
            "81  Electronics and Electrical Engineering       0  \n",
            "82  Electronics and Electrical Engineering       0  \n",
            "83  Electronics and Electrical Engineering       0  \n",
            "\n",
            "[84 rows x 7 columns]\n",
            "                      Name  python  python_en  mysql  computational_thinking  \\\n",
            "0            ASHOK KUMAR K     100          0     31                       9   \n",
            "1                  Chandru       0         20      0                       0   \n",
            "2        Ganesh Ramkumar R      -1         55     24                       6   \n",
            "3          Bodipudi Harini      -1          0     35                      -1   \n",
            "4                VIINU V P      -1        100     24                      -1   \n",
            "5               Poojitha Y       0         78     35                       0   \n",
            "6   Gowtham Chandrasekaran      -1          0      0                       3   \n",
            "7                Gowtham R      -1         60      4                       6   \n",
            "8                 shifak N      58          0      0                       0   \n",
            "9                  Balaji       -1        100     20                       0   \n",
            "10                Rushitha      -1         15     62                       9   \n",
            "11    Balaraman Muthupandi      -1          9      0                       0   \n",
            "12                JPradhap     100          0      0                       0   \n",
            "13           SRIRAMKUMAR B      -1          0      0                       0   \n",
            "14               Praneetha      -1         23    100                      -1   \n",
            "15             Rahul Raj K      -1          0      0                       0   \n",
            "16                 Guhan S      -1         72     35                      39   \n",
            "17            Suryarajan S      -1         63     31                       0   \n",
            "18          Narasimhan Y L      -1         -1      0                       0   \n",
            "19            Leelakrishna      -1          6      4                       0   \n",
            "20          PremsagarReddy      -1         20      0                       0   \n",
            "21               pradeeban      16         20     24                       0   \n",
            "22             santhoshini      -1         43      0                       0   \n",
            "23              MUKESH S M      -1         46      0                       0   \n",
            "24           P.GOVARDHANAN      -1         40      0                      -1   \n",
            "25            SHAIK DANISH      -1         43      0                       0   \n",
            "26               sridhar.s      -1         52      0                       0   \n",
            "27       Vimalesh Fernando      -1          0      0                       0   \n",
            "28           M.Karthikeyan      -1          0      4                       6   \n",
            "29               Abishak s      -1         55     35                       6   \n",
            "30           praveen raj j      24         -1      0                       0   \n",
            "31              AMARNATH D      -1         52     12                      -1   \n",
            "32                    bala      32         49      0                      -1   \n",
            "33                    XY Z      -1         20     -1                      -1   \n",
            "34               Hariharan      -1         -1     -1                       0   \n",
            "\n",
            "    Previous Geekions  CodeKata Score  \\\n",
            "0               19400           19400   \n",
            "1               14150           14490   \n",
            "2                8790           10790   \n",
            "3               10040           10040   \n",
            "4                9150            9150   \n",
            "5                7210            8970   \n",
            "6                7250            8950   \n",
            "7                8650            8650   \n",
            "8                5180            8320   \n",
            "9                6170            8160   \n",
            "10               7470            8090   \n",
            "11               7670            8050   \n",
            "12               7340            8030   \n",
            "13               6400            7940   \n",
            "14               7170            7730   \n",
            "15               6280            7640   \n",
            "16               7310            7630   \n",
            "17               6710            7550   \n",
            "18               4800            6800   \n",
            "19               5300            6640   \n",
            "20               5290            6290   \n",
            "21               6060            6090   \n",
            "22               3910            5740   \n",
            "23               5200            5200   \n",
            "24               5050            5050   \n",
            "25               4050            4820   \n",
            "26               3860            4440   \n",
            "27               4170            4170   \n",
            "28               4020            4020   \n",
            "29               3220            3220   \n",
            "30               2380            2380   \n",
            "31               1890            1890   \n",
            "32               1720            1720   \n",
            "33                  0               0   \n",
            "34                  0               0   \n",
            "\n",
            "                                   Department  Rising  \n",
            "0      Electronics and Electrical Engineering       0  \n",
            "1            Computer Science and Engineering     340  \n",
            "2            Computer Science and Engineering    2000  \n",
            "3   Electronics and Communication Engineering       0  \n",
            "4      Electronics and Electrical Engineering       0  \n",
            "5            Computer Science and Engineering    1760  \n",
            "6            Computer Science and Engineering    1700  \n",
            "7   Electronics and Communication Engineering       0  \n",
            "8      Electronics and Electrical Engineering    3140  \n",
            "9      Electronics and Electrical Engineering    1990  \n",
            "10           Computer Science and Engineering     620  \n",
            "11           Computer Science and Engineering     380  \n",
            "12     Electronics and Electrical Engineering     690  \n",
            "13           Computer Science and Engineering    1540  \n",
            "14  Electronics and Communication Engineering     560  \n",
            "15           Computer Science and Engineering    1360  \n",
            "16  Electronics and Communication Engineering     320  \n",
            "17           Computer Science and Engineering     840  \n",
            "18           Computer Science and Engineering    2000  \n",
            "19           Computer Science and Engineering    1340  \n",
            "20           Computer Science and Engineering    1000  \n",
            "21           Computer Science and Engineering      30  \n",
            "22           Computer Science and Engineering    1830  \n",
            "23           Computer Science and Engineering       0  \n",
            "24  Electronics and Communication Engineering       0  \n",
            "25           Computer Science and Engineering     770  \n",
            "26           Computer Science and Engineering     580  \n",
            "27           Computer Science and Engineering       0  \n",
            "28           Computer Science and Engineering       0  \n",
            "29  Electronics and Communication Engineering       0  \n",
            "30           Computer Science and Engineering       0  \n",
            "31  Electronics and Communication Engineering       0  \n",
            "32  Electronics and Communication Engineering       0  \n",
            "33           Computer Science and Engineering       0  \n",
            "34           Computer Science and Engineering       0  \n"
          ]
        }
      ],
      "source": [
        "import pandas as pd\n",
        "df1=pd.read_csv('/content/sample_data/college_1.csv')\n",
        "print(df1)\n",
        "df2=pd.read_csv('/content/sample_data/college_2.csv')\n",
        "print(df2)\n",
        "\n"
      ]
    },
    {
      "cell_type": "markdown",
      "metadata": {
        "id": "dRENPDQYoX_x"
      },
      "source": [
        "###### merge those two csv files (after getting as dataframes, get them as a single dataframe)"
      ]
    },
    {
      "cell_type": "code",
      "execution_count": 50,
      "metadata": {
        "id": "xZkxJMwUoX_y",
        "outputId": "9c796c54-f686-4f84-ba09-8349fd0e9747",
        "colab": {
          "base_uri": "https://localhost:8080/"
        }
      },
      "outputs": [
        {
          "output_type": "stream",
          "name": "stdout",
          "text": [
            "              Name  python_x  mysql_x  Previous Geekions_x  CodeKata Score_x  \\\n",
            "0        A.Dharani      82.0     20.0              24500.0           24500.0   \n",
            "1      V.JEEVITHA       82.0     20.0              21740.0           21740.0   \n",
            "2      HEMAVATHI.R     100.0    100.0              19680.0           19680.0   \n",
            "3      Mugunthan S     100.0     47.0              10610.0           10610.0   \n",
            "4      Sathammai.S     100.0      8.0               8980.0            8980.0   \n",
            "..             ...       ...      ...                  ...               ...   \n",
            "114  praveen raj j       NaN      NaN                  NaN               NaN   \n",
            "115     AMARNATH D       NaN      NaN                  NaN               NaN   \n",
            "116           bala       NaN      NaN                  NaN               NaN   \n",
            "117           XY Z       NaN      NaN                  NaN               NaN   \n",
            "118      Hariharan       NaN      NaN                  NaN               NaN   \n",
            "\n",
            "                         Department_x  Rising_x  python_y  python_en  mysql_y  \\\n",
            "0    Computer Science and Engineering       0.0       NaN        NaN      NaN   \n",
            "1    Computer Science and Engineering       0.0       NaN        NaN      NaN   \n",
            "2    Computer Science and Engineering       0.0       NaN        NaN      NaN   \n",
            "3    Computer Science and Engineering       0.0       NaN        NaN      NaN   \n",
            "4    Computer Science and Engineering       0.0       NaN        NaN      NaN   \n",
            "..                                ...       ...       ...        ...      ...   \n",
            "114                               NaN       NaN      24.0       -1.0      0.0   \n",
            "115                               NaN       NaN      -1.0       52.0     12.0   \n",
            "116                               NaN       NaN      32.0       49.0      0.0   \n",
            "117                               NaN       NaN      -1.0       20.0     -1.0   \n",
            "118                               NaN       NaN      -1.0       -1.0     -1.0   \n",
            "\n",
            "     computational_thinking  Previous Geekions_y  CodeKata Score_y  \\\n",
            "0                       NaN                  NaN               NaN   \n",
            "1                       NaN                  NaN               NaN   \n",
            "2                       NaN                  NaN               NaN   \n",
            "3                       NaN                  NaN               NaN   \n",
            "4                       NaN                  NaN               NaN   \n",
            "..                      ...                  ...               ...   \n",
            "114                     0.0               2380.0            2380.0   \n",
            "115                    -1.0               1890.0            1890.0   \n",
            "116                    -1.0               1720.0            1720.0   \n",
            "117                    -1.0                  0.0               0.0   \n",
            "118                     0.0                  0.0               0.0   \n",
            "\n",
            "                                  Department_y  Rising_y  \n",
            "0                                          NaN       NaN  \n",
            "1                                          NaN       NaN  \n",
            "2                                          NaN       NaN  \n",
            "3                                          NaN       NaN  \n",
            "4                                          NaN       NaN  \n",
            "..                                         ...       ...  \n",
            "114           Computer Science and Engineering       0.0  \n",
            "115  Electronics and Communication Engineering       0.0  \n",
            "116  Electronics and Communication Engineering       0.0  \n",
            "117           Computer Science and Engineering       0.0  \n",
            "118           Computer Science and Engineering       0.0  \n",
            "\n",
            "[119 rows x 15 columns]\n"
          ]
        }
      ],
      "source": [
        "df2.mysql = df2.mysql.astype(float)\n",
        "df3=pd.merge(df1,df2,how = 'outer', on = ['Name'])\n",
        "print(df3)"
      ]
    },
    {
      "cell_type": "markdown",
      "metadata": {
        "id": "jroPEyy7oX_z"
      },
      "source": [
        "###### Take each csv file , split that csv file into multiple categories (example csv files are added in the repo) \n"
      ]
    },
    {
      "cell_type": "markdown",
      "metadata": {
        "id": "v9w2jcGUoX_0"
      },
      "source": [
        "###### consider if the codekata score exceeds 15000 points(present week) then make a csv on those observations as Exceeded expectations.csv\n"
      ]
    },
    {
      "cell_type": "markdown",
      "metadata": {
        "id": "pmJ7uCmJoX_2"
      },
      "source": [
        "###### if  10000<codekata score<15000   (Reached_expectations.csv)\n",
        "\n"
      ]
    },
    {
      "cell_type": "markdown",
      "metadata": {
        "id": "E-m4rtOMoX_4"
      },
      "source": [
        "###### if  7000<codekata score<10000   (Needs_Improvement.csv)\n"
      ]
    },
    {
      "cell_type": "markdown",
      "metadata": {
        "id": "M2WFsLEAoX_6"
      },
      "source": [
        "###### if  codekate score < 7000        (Unsatisfactory.csv)"
      ]
    },
    {
      "cell_type": "code",
      "execution_count": 59,
      "metadata": {
        "id": "jmhqF3f2oX_7"
      },
      "outputs": [],
      "source": [
        "import pandas as pd\n",
        "df1=pd.read_csv('/content/sample_data/college_1.csv')\n",
        "exceeded_expect = df1[df1['CodeKata Score'] > 15000]\n",
        "reached_expect = df1[(df1['CodeKata Score'] < 15000) & (df1['CodeKata Score'] > 10000)]\n",
        "needs_improve = df1[(df1['CodeKata Score'] < 10000) & (df1['CodeKata Score'] > 7000)]\n",
        "unsatisfactory = df1[df1['CodeKata Score'] < 7000]\n",
        "exceeded_expect.to_csv('Exceeded expectaion.csv',index=False)\n",
        "reached_expect.to_csv('Reached Expectation.csv',index=False)\n",
        "needs_improve.to_csv('Needs_Improvement.csv',index=False)\n",
        "unsatisfactory.to_csv('Unsatisfactory.csv',index=False)"
      ]
    },
    {
      "cell_type": "code",
      "execution_count": 60,
      "metadata": {
        "id": "v3x4NCFKoX_7"
      },
      "outputs": [],
      "source": [
        "import pandas as pd\n",
        "df2=pd.read_csv('/content/sample_data/college_2.csv')\n",
        "exceeded_expect2 = df2[df2['CodeKata Score'] > 15000]\n",
        "reached_expect2 = df2[(df2['CodeKata Score'] < 15000) & (df2['CodeKata Score'] > 10000)]\n",
        "needs_improve2 = df2[(df2['CodeKata Score'] < 10000) & (df2['CodeKata Score'] > 7000)]\n",
        "unsatisfactory2 = df2[df2['CodeKata Score'] < 7000]\n",
        "exceeded_expect2.to_csv('Exceeded expectaion.csv',index=False)\n",
        "reached_expect2.to_csv('Reached Expectation.csv',index=False)\n",
        "needs_improve2.to_csv('Needs_Improvement.csv',index=False)\n",
        "unsatisfactory2.to_csv('Unsatisfactory.csv',index=False)"
      ]
    },
    {
      "cell_type": "markdown",
      "metadata": {
        "id": "37aUlmH8oX_8"
      },
      "source": [
        "###### Average of previous week geekions vs this week geekions (i.e Previous Geekions vs CodeKata Score)"
      ]
    },
    {
      "cell_type": "code",
      "execution_count": null,
      "metadata": {
        "id": "jDwO1WgFoX_9"
      },
      "outputs": [],
      "source": []
    },
    {
      "cell_type": "markdown",
      "metadata": {
        "id": "43u766PeoX_9"
      },
      "source": [
        "###### No of students participated "
      ]
    },
    {
      "cell_type": "code",
      "execution_count": 61,
      "metadata": {
        "id": "1i3zMUAroX_-",
        "outputId": "adcd2721-5e64-4842-aefc-cf5570df5fbd",
        "colab": {
          "base_uri": "https://localhost:8080/"
        }
      },
      "outputs": [
        {
          "output_type": "stream",
          "name": "stdout",
          "text": [
            "119\n"
          ]
        }
      ],
      "source": [
        "no_of_students=df1.shape[0] + df2.shape[0]\n",
        "print(no_of_students)"
      ]
    },
    {
      "cell_type": "markdown",
      "metadata": {
        "id": "a2geegnyoX_-"
      },
      "source": [
        "###### #Average completion of python course or my_sql or python english or computational thinking"
      ]
    },
    {
      "cell_type": "code",
      "execution_count": 64,
      "metadata": {
        "id": "8PdcDRy7oX__",
        "outputId": "0def2b3a-d681-4fce-cfe7-067c1d0c8498",
        "colab": {
          "base_uri": "https://localhost:8080/"
        }
      },
      "outputs": [
        {
          "output_type": "stream",
          "name": "stdout",
          "text": [
            "8.657142857142857\n",
            "13.657142857142857\n",
            "2.2\n"
          ]
        }
      ],
      "source": [
        "python = df2['python'].mean()\n",
        "my_sql = df2['mysql'].mean()\n",
        "computational_thinking = df2['computational_thinking'].mean()\n",
        "print(python)\n",
        "print(my_sql)\n",
        "print(computational_thinking)"
      ]
    },
    {
      "cell_type": "markdown",
      "metadata": {
        "id": "UP6qaQ6foX__"
      },
      "source": [
        "###### rising star of the week (top 3 candidate who performed well in that particular week)"
      ]
    },
    {
      "cell_type": "code",
      "execution_count": null,
      "metadata": {
        "id": "GwDIS_iUoYAA"
      },
      "outputs": [],
      "source": []
    },
    {
      "cell_type": "markdown",
      "metadata": {
        "id": "Gl6K9WACoYAA"
      },
      "source": [
        "###### Shining stars of the week (top 3 candidates who has highest geekions)"
      ]
    },
    {
      "cell_type": "code",
      "execution_count": null,
      "metadata": {
        "id": "fJSYH7VfoYAB"
      },
      "outputs": [],
      "source": []
    },
    {
      "cell_type": "markdown",
      "metadata": {
        "id": "fBCUa5EGoYAB"
      },
      "source": [
        "###### Department wise codekata performence (pie chart)"
      ]
    },
    {
      "cell_type": "code",
      "execution_count": null,
      "metadata": {
        "id": "6BYfkZvloYAB"
      },
      "outputs": [],
      "source": []
    },
    {
      "cell_type": "markdown",
      "metadata": {
        "id": "HMMtckgsoYAC"
      },
      "source": [
        "###### Department wise toppers (horizantal bar graph or any visual representations of your choice)"
      ]
    },
    {
      "cell_type": "code",
      "execution_count": null,
      "metadata": {
        "id": "ykmNsMoNoYAC"
      },
      "outputs": [],
      "source": []
    },
    {
      "cell_type": "code",
      "execution_count": null,
      "metadata": {
        "id": "1T5EkTNyoYAC"
      },
      "outputs": [],
      "source": []
    },
    {
      "cell_type": "code",
      "execution_count": null,
      "metadata": {
        "id": "NuccMzYpoYAD"
      },
      "outputs": [],
      "source": []
    },
    {
      "cell_type": "code",
      "execution_count": null,
      "metadata": {
        "id": "KHBltJGaoYAD"
      },
      "outputs": [],
      "source": []
    }
  ],
  "metadata": {
    "kernelspec": {
      "display_name": "Python 3",
      "language": "python",
      "name": "python3"
    },
    "language_info": {
      "codemirror_mode": {
        "name": "ipython",
        "version": 3
      },
      "file_extension": ".py",
      "mimetype": "text/x-python",
      "name": "python",
      "nbconvert_exporter": "python",
      "pygments_lexer": "ipython3",
      "version": "3.8.3"
    },
    "colab": {
      "provenance": [],
      "include_colab_link": true
    }
  },
  "nbformat": 4,
  "nbformat_minor": 0
}