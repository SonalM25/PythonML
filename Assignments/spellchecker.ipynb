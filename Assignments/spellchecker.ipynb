{
  "nbformat": 4,
  "nbformat_minor": 0,
  "metadata": {
    "colab": {
      "provenance": [],
      "authorship_tag": "ABX9TyONE0nqJtZlA+gufjzrc3RI",
      "include_colab_link": true
    },
    "kernelspec": {
      "name": "python3",
      "display_name": "Python 3"
    },
    "language_info": {
      "name": "python"
    }
  },
  "cells": [
    {
      "cell_type": "markdown",
      "metadata": {
        "id": "view-in-github",
        "colab_type": "text"
      },
      "source": [
        "<a href=\"https://colab.research.google.com/github/SonalM25/PythonML/blob/main/spellchecker.ipynb\" target=\"_parent\"><img src=\"https://colab.research.google.com/assets/colab-badge.svg\" alt=\"Open In Colab\"/></a>"
      ]
    },
    {
      "cell_type": "code",
      "source": [
        "!pip install pyspellchecker==0.5.6"
      ],
      "metadata": {
        "colab": {
          "base_uri": "https://localhost:8080/"
        },
        "id": "JNeUsxEKui_3",
        "outputId": "11bf9fdd-0bb2-45d0-c9f9-2f10ae091d3e"
      },
      "execution_count": 3,
      "outputs": [
        {
          "output_type": "stream",
          "name": "stdout",
          "text": [
            "Looking in indexes: https://pypi.org/simple, https://us-python.pkg.dev/colab-wheels/public/simple/\n",
            "Requirement already satisfied: pyspellchecker==0.5.6 in /usr/local/lib/python3.8/dist-packages (0.5.6)\n"
          ]
        }
      ]
    },
    {
      "cell_type": "code",
      "source": [
        "from spellchecker import SpellChecker\n",
        "\n",
        "spell= SpellChecker()\n",
        "\n",
        "def spell_correction(text):\n",
        "  misspelled=spell.unknown(text)\n",
        "  return spell.correction(text)\n",
        "\n",
        "data=str(input(\"enter text: \"))\n",
        "data=data.split()\n",
        "for word in data:\n",
        "  res=spell_correction(word)\n",
        "  print(res,end=' ')\n",
        "\n",
        "\n"
      ],
      "metadata": {
        "colab": {
          "base_uri": "https://localhost:8080/"
        },
        "id": "p-4TXwyDw9vC",
        "outputId": "91569dcb-58bc-4a97-bc80-5702cf7446b3"
      },
      "execution_count": 5,
      "outputs": [
        {
          "output_type": "stream",
          "name": "stdout",
          "text": [
            "enter text: Dataa science is an interdisciplinary aacademic field [1] that euses statistics, scientific ccomputing, scientific methods, processes, algorithms and systems to extract or extrapolate knowledge and insights frome noisy, structured, and unstructured data.[2]  Data science alsoo integrates domain knowledge from the underlying application domain (e.g., natural sciences, information technology, and medicine).[3] Data science is multifaceted andd can be described as a sciencee, a reasearch paradigm, a research method, a discipline, a eworkflow, and aa profession.[4]\n",
            "data science is an None academic field None that uses statistics scientific computing scientific methods processes algorithms and systems to extract or extrapolate knowledge and insights from noisy structured and unstructured None Data science also integrates domain knowledge from the underlying application domain None natural sciences information technology and None Data science is multifaceted and can be described as a science a research paradigm a research method a discipline a workflow and a None "
          ]
        }
      ]
    },
    {
      "cell_type": "code",
      "source": [
        "!pip install pyspellchecker==0.7.1"
      ],
      "metadata": {
        "colab": {
          "base_uri": "https://localhost:8080/",
          "height": 291
        },
        "id": "pyBDWaZNrWpb",
        "outputId": "0ede8c7f-54df-4a8f-86f3-be40f203f31a"
      },
      "execution_count": 15,
      "outputs": [
        {
          "output_type": "stream",
          "name": "stdout",
          "text": [
            "Looking in indexes: https://pypi.org/simple, https://us-python.pkg.dev/colab-wheels/public/simple/\n",
            "Collecting pyspellchecker==0.7.1\n",
            "  Downloading pyspellchecker-0.7.1-py3-none-any.whl (2.5 MB)\n",
            "\u001b[2K     \u001b[90m━━━━━━━━━━━━━━━━━━━━━━━━━━━━━━━━━━━━━━━━\u001b[0m \u001b[32m2.5/2.5 MB\u001b[0m \u001b[31m28.9 MB/s\u001b[0m eta \u001b[36m0:00:00\u001b[0m\n",
            "\u001b[?25hInstalling collected packages: pyspellchecker\n",
            "  Attempting uninstall: pyspellchecker\n",
            "    Found existing installation: pyspellchecker 0.5.6\n",
            "    Uninstalling pyspellchecker-0.5.6:\n",
            "      Successfully uninstalled pyspellchecker-0.5.6\n",
            "Successfully installed pyspellchecker-0.7.1\n"
          ]
        },
        {
          "output_type": "display_data",
          "data": {
            "application/vnd.colab-display-data+json": {
              "pip_warning": {
                "packages": [
                  "spellchecker"
                ]
              }
            }
          },
          "metadata": {}
        }
      ]
    },
    {
      "cell_type": "code",
      "source": [
        "data=str(input(\"enter text: \"))\n",
        "          data=data.split()\n",
        "for word in data:\n",
        "  print(word)"
      ],
      "metadata": {
        "colab": {
          "base_uri": "https://localhost:8080/"
        },
        "id": "DW6FymkvoF23",
        "outputId": "30b64f65-0048-4a70-8544-5770201d1b29"
      },
      "execution_count": 3,
      "outputs": [
        {
          "output_type": "stream",
          "name": "stdout",
          "text": [
            "enter text: hi how are\n",
            "hi\n",
            "how\n",
            "are\n"
          ]
        }
      ]
    }
  ]
}